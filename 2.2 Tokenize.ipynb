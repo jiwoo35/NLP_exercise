{
 "cells": [
  {
   "cell_type": "code",
   "execution_count": null,
   "id": "01904376",
   "metadata": {},
   "outputs": [],
   "source": [
    "# 'NLP in Action'\n",
    "# 2.2.3 토큰 개선"
   ]
  },
  {
   "cell_type": "code",
   "execution_count": 16,
   "id": "bd7ff6fd",
   "metadata": {},
   "outputs": [],
   "source": [
    "import re"
   ]
  },
  {
   "cell_type": "code",
   "execution_count": 40,
   "id": "4e2d31b5",
   "metadata": {},
   "outputs": [],
   "source": [
    "sentence = \"\"\"Thomas Jefferson began building Monticello at the age of 26.\"\"\""
   ]
  },
  {
   "cell_type": "code",
   "execution_count": 47,
   "id": "b4077e05",
   "metadata": {},
   "outputs": [],
   "source": [
    "tokens = re.split(r'[-\\s.,;!?]+', sentence)"
   ]
  },
  {
   "cell_type": "code",
   "execution_count": 48,
   "id": "ed3326b6",
   "metadata": {},
   "outputs": [
    {
     "data": {
      "text/plain": [
       "['Thomas',\n",
       " 'Jefferson',\n",
       " 'began',\n",
       " 'building',\n",
       " 'Monticello',\n",
       " 'at',\n",
       " 'the',\n",
       " 'age',\n",
       " 'of',\n",
       " '26',\n",
       " '']"
      ]
     },
     "execution_count": 48,
     "metadata": {},
     "output_type": "execute_result"
    }
   ],
   "source": [
    "tokens"
   ]
  },
  {
   "cell_type": "code",
   "execution_count": 33,
   "id": "56e7edf0",
   "metadata": {},
   "outputs": [],
   "source": [
    "pattern = re.compile(r'([-\\s.,;!?])+')"
   ]
  },
  {
   "cell_type": "code",
   "execution_count": 34,
   "id": "862eb8d2",
   "metadata": {},
   "outputs": [],
   "source": [
    "tokens = pattern.split(sentence)"
   ]
  },
  {
   "cell_type": "code",
   "execution_count": 35,
   "id": "6313594f",
   "metadata": {},
   "outputs": [
    {
     "data": {
      "text/plain": [
       "[' ', 'the', ' ', 'age', ' ', 'of', ' ', '26', '.', '']"
      ]
     },
     "execution_count": 35,
     "metadata": {},
     "output_type": "execute_result"
    }
   ],
   "source": [
    "tokens[-10:]"
   ]
  },
  {
   "cell_type": "code",
   "execution_count": 36,
   "id": "833c7bb3",
   "metadata": {},
   "outputs": [
    {
     "data": {
      "text/plain": [
       "['Thomas',\n",
       " 'Jefferson',\n",
       " 'began',\n",
       " 'building',\n",
       " 'Monticello',\n",
       " 'at',\n",
       " 'the',\n",
       " 'age',\n",
       " 'of',\n",
       " '26']"
      ]
     },
     "execution_count": 36,
     "metadata": {},
     "output_type": "execute_result"
    }
   ],
   "source": [
    "[x for x in tokens if x and x not in '- \\t\\n.,!?']"
   ]
  },
  {
   "cell_type": "code",
   "execution_count": 37,
   "id": "3169e1c6",
   "metadata": {},
   "outputs": [
    {
     "data": {
      "text/plain": [
       "['Thomas',\n",
       " 'Jefferson',\n",
       " 'began',\n",
       " 'building',\n",
       " 'Monticello',\n",
       " 'at',\n",
       " 'the',\n",
       " 'age',\n",
       " 'of',\n",
       " '26']"
      ]
     },
     "execution_count": 37,
     "metadata": {},
     "output_type": "execute_result"
    }
   ],
   "source": [
    "list(filter(lambda x: x if x and x not in '- \\t\\n.,!?' else None, tokens))"
   ]
  },
  {
   "cell_type": "code",
   "execution_count": 2,
   "id": "bbbd74cf",
   "metadata": {},
   "outputs": [],
   "source": [
    "from nltk.tokenize import RegexpTokenizer"
   ]
  },
  {
   "cell_type": "code",
   "execution_count": 5,
   "id": "c1931268",
   "metadata": {},
   "outputs": [],
   "source": [
    "tokenizer = RegexpTokenizer(r'\\w+|$[0-9.]+|\\S+') # S 대문자여야 공백 제거한다!!"
   ]
  },
  {
   "cell_type": "code",
   "execution_count": 6,
   "id": "d2515ae2",
   "metadata": {},
   "outputs": [
    {
     "data": {
      "text/plain": [
       "['Thomas',\n",
       " 'Jefferson',\n",
       " 'began',\n",
       " 'building',\n",
       " 'Monticello',\n",
       " 'at',\n",
       " 'the',\n",
       " 'age',\n",
       " 'of',\n",
       " '26',\n",
       " '.']"
      ]
     },
     "execution_count": 6,
     "metadata": {},
     "output_type": "execute_result"
    }
   ],
   "source": [
    "tokenizer.tokenize(sentence)"
   ]
  },
  {
   "cell_type": "code",
   "execution_count": 7,
   "id": "add0351a",
   "metadata": {},
   "outputs": [],
   "source": [
    "from nltk.tokenize import TreebankWordTokenizer"
   ]
  },
  {
   "cell_type": "code",
   "execution_count": 11,
   "id": "0c2a0962",
   "metadata": {},
   "outputs": [],
   "source": [
    "sentence = \"\"\"Monticello wasn't designated as UNESCO World Heritage Stie until 1987.\"\"\""
   ]
  },
  {
   "cell_type": "code",
   "execution_count": 12,
   "id": "afbba614",
   "metadata": {},
   "outputs": [],
   "source": [
    "toknenizer = TreebankWordTokenizer()"
   ]
  },
  {
   "cell_type": "code",
   "execution_count": 13,
   "id": "4ec9f5fc",
   "metadata": {},
   "outputs": [
    {
     "data": {
      "text/plain": [
       "['Monticello',\n",
       " 'wasn',\n",
       " \"'t\",\n",
       " 'designated',\n",
       " 'as',\n",
       " 'UNESCO',\n",
       " 'World',\n",
       " 'Heritage',\n",
       " 'Stie',\n",
       " 'until',\n",
       " '1987',\n",
       " '.']"
      ]
     },
     "execution_count": 13,
     "metadata": {},
     "output_type": "execute_result"
    }
   ],
   "source": [
    "tokenizer.tokenize(sentence) # wansn't => wasn, 't로 분리되는데 책에서는 was, n't?"
   ]
  },
  {
   "cell_type": "code",
   "execution_count": 14,
   "id": "d8fe5f18",
   "metadata": {},
   "outputs": [],
   "source": [
    "# 2.2.4 n-그램을 이용한 어휘 확장"
   ]
  },
  {
   "cell_type": "code",
   "execution_count": 29,
   "id": "918491d8",
   "metadata": {},
   "outputs": [
    {
     "ename": "NameError",
     "evalue": "name 'tokenize_2grams' is not defined",
     "output_type": "error",
     "traceback": [
      "\u001b[1;31m---------------------------------------------------------------------------\u001b[0m",
      "\u001b[1;31mNameError\u001b[0m                                 Traceback (most recent call last)",
      "\u001b[1;32m~\\AppData\\Local\\Temp/ipykernel_11460/2993628180.py\u001b[0m in \u001b[0;36m<module>\u001b[1;34m\u001b[0m\n\u001b[1;32m----> 1\u001b[1;33m \u001b[0mtokenize_2grams\u001b[0m\u001b[1;33m(\u001b[0m\u001b[1;34m\"Thomas Jefferson began building Monticello at the age of 26.\"\u001b[0m\u001b[1;33m)\u001b[0m \u001b[1;31m# not defined?\u001b[0m\u001b[1;33m\u001b[0m\u001b[1;33m\u001b[0m\u001b[0m\n\u001b[0m",
      "\u001b[1;31mNameError\u001b[0m: name 'tokenize_2grams' is not defined"
     ]
    }
   ],
   "source": [
    "tokenize_2grams(\"Thomas Jefferson began building Monticello at the age of 26.\") # not defined?"
   ]
  },
  {
   "cell_type": "code",
   "execution_count": 54,
   "id": "9b5bcbae",
   "metadata": {},
   "outputs": [
    {
     "data": {
      "text/plain": [
       "['Thomas',\n",
       " 'Jefferson',\n",
       " 'began',\n",
       " 'building',\n",
       " 'Monticello',\n",
       " 'at',\n",
       " 'the',\n",
       " 'age',\n",
       " 'of',\n",
       " '26']"
      ]
     },
     "execution_count": 54,
     "metadata": {},
     "output_type": "execute_result"
    }
   ],
   "source": [
    "sentence = \"\"\"Thomas Jefferson began building Monticello at the age of 26.\"\"\"\n",
    "pattern = re.compile(r'([-\\s.,;!?])+')\n",
    "tokens = pattern.split(sentence)\n",
    "tokens = [x for x in tokens if x and x not in '- \\t\\n.,;!?']\n",
    "tokens"
   ]
  },
  {
   "cell_type": "code",
   "execution_count": 55,
   "id": "33757299",
   "metadata": {},
   "outputs": [],
   "source": [
    "from nltk.util import ngrams"
   ]
  },
  {
   "cell_type": "code",
   "execution_count": 56,
   "id": "cacf8207",
   "metadata": {},
   "outputs": [
    {
     "data": {
      "text/plain": [
       "[('Thomas', 'Jefferson'),\n",
       " ('Jefferson', 'began'),\n",
       " ('began', 'building'),\n",
       " ('building', 'Monticello'),\n",
       " ('Monticello', 'at'),\n",
       " ('at', 'the'),\n",
       " ('the', 'age'),\n",
       " ('age', 'of'),\n",
       " ('of', '26')]"
      ]
     },
     "execution_count": 56,
     "metadata": {},
     "output_type": "execute_result"
    }
   ],
   "source": [
    "list(ngrams(tokens, 2))"
   ]
  },
  {
   "cell_type": "code",
   "execution_count": 57,
   "id": "28a076a4",
   "metadata": {},
   "outputs": [
    {
     "data": {
      "text/plain": [
       "[('Thomas', 'Jefferson', 'began'),\n",
       " ('Jefferson', 'began', 'building'),\n",
       " ('began', 'building', 'Monticello'),\n",
       " ('building', 'Monticello', 'at'),\n",
       " ('Monticello', 'at', 'the'),\n",
       " ('at', 'the', 'age'),\n",
       " ('the', 'age', 'of'),\n",
       " ('age', 'of', '26')]"
      ]
     },
     "execution_count": 57,
     "metadata": {},
     "output_type": "execute_result"
    }
   ],
   "source": [
    "list(ngrams(tokens, 3))"
   ]
  },
  {
   "cell_type": "code",
   "execution_count": 58,
   "id": "13a1272e",
   "metadata": {},
   "outputs": [],
   "source": [
    "two_grams = list(ngrams(tokens, 2))"
   ]
  },
  {
   "cell_type": "code",
   "execution_count": 59,
   "id": "01616eca",
   "metadata": {},
   "outputs": [
    {
     "data": {
      "text/plain": [
       "['Thomas Jefferson',\n",
       " 'Jefferson began',\n",
       " 'began building',\n",
       " 'building Monticello',\n",
       " 'Monticello at',\n",
       " 'at the',\n",
       " 'the age',\n",
       " 'age of',\n",
       " 'of 26']"
      ]
     },
     "execution_count": 59,
     "metadata": {},
     "output_type": "execute_result"
    }
   ],
   "source": [
    "[\" \".join(x) for x in two_grams]"
   ]
  },
  {
   "cell_type": "code",
   "execution_count": 4,
   "id": "eefb1ac0",
   "metadata": {},
   "outputs": [],
   "source": [
    "# 불용어\n",
    "import nltk"
   ]
  },
  {
   "cell_type": "code",
   "execution_count": 61,
   "id": "3619b0db",
   "metadata": {},
   "outputs": [
    {
     "name": "stderr",
     "output_type": "stream",
     "text": [
      "[nltk_data] Downloading package stopwords to\n",
      "[nltk_data]     C:\\Users\\chaek\\AppData\\Roaming\\nltk_data...\n",
      "[nltk_data]   Unzipping corpora\\stopwords.zip.\n"
     ]
    },
    {
     "data": {
      "text/plain": [
       "True"
      ]
     },
     "execution_count": 61,
     "metadata": {},
     "output_type": "execute_result"
    }
   ],
   "source": [
    "nltk.download('stopwords')"
   ]
  },
  {
   "cell_type": "code",
   "execution_count": 71,
   "id": "26c0ec74",
   "metadata": {},
   "outputs": [],
   "source": [
    "stop_words= nltk.corpus.stopwords.words('english')"
   ]
  },
  {
   "cell_type": "code",
   "execution_count": 72,
   "id": "73fe23da",
   "metadata": {},
   "outputs": [
    {
     "data": {
      "text/plain": [
       "179"
      ]
     },
     "execution_count": 72,
     "metadata": {},
     "output_type": "execute_result"
    }
   ],
   "source": [
    "len(stop_words)"
   ]
  },
  {
   "cell_type": "code",
   "execution_count": 74,
   "id": "c89fc2f7",
   "metadata": {},
   "outputs": [
    {
     "data": {
      "text/plain": [
       "['i', 'me', 'my', 'myself', 'we', 'our', 'ours']"
      ]
     },
     "execution_count": 74,
     "metadata": {},
     "output_type": "execute_result"
    }
   ],
   "source": [
    "stop_words[:7]"
   ]
  },
  {
   "cell_type": "code",
   "execution_count": 67,
   "id": "20c41f8e",
   "metadata": {},
   "outputs": [],
   "source": [
    "from sklearn.feature_extraction.text import ENGLISH_STOP_WORDS as sklearn_stop_words"
   ]
  },
  {
   "cell_type": "code",
   "execution_count": 68,
   "id": "3d590017",
   "metadata": {},
   "outputs": [
    {
     "data": {
      "text/plain": [
       "318"
      ]
     },
     "execution_count": 68,
     "metadata": {},
     "output_type": "execute_result"
    }
   ],
   "source": [
    "len(sklearn_stop_words)"
   ]
  },
  {
   "cell_type": "code",
   "execution_count": 75,
   "id": "64973d7d",
   "metadata": {},
   "outputs": [
    {
     "data": {
      "text/plain": [
       "179"
      ]
     },
     "execution_count": 75,
     "metadata": {},
     "output_type": "execute_result"
    }
   ],
   "source": [
    "len(stop_words)"
   ]
  },
  {
   "cell_type": "code",
   "execution_count": 88,
   "id": "f5d421d1",
   "metadata": {},
   "outputs": [
    {
     "data": {
      "text/plain": [
       "378"
      ]
     },
     "execution_count": 88,
     "metadata": {},
     "output_type": "execute_result"
    }
   ],
   "source": [
    "stop_words = set(stop_words) # 교재에는 없지만, union() 쓰려면, set으로 바꿔줘야 하는듯;\n",
    "len(stop_words.union(sklearn_stop_words))"
   ]
  },
  {
   "cell_type": "code",
   "execution_count": 89,
   "id": "e8670f42",
   "metadata": {},
   "outputs": [
    {
     "data": {
      "text/plain": [
       "119"
      ]
     },
     "execution_count": 89,
     "metadata": {},
     "output_type": "execute_result"
    }
   ],
   "source": [
    "len(stop_words.intersection(sklearn_stop_words))"
   ]
  },
  {
   "cell_type": "code",
   "execution_count": 90,
   "id": "658ec486",
   "metadata": {},
   "outputs": [],
   "source": [
    "tokens= ['House', 'Visitor', 'Center']"
   ]
  },
  {
   "cell_type": "code",
   "execution_count": 91,
   "id": "70d2a91a",
   "metadata": {},
   "outputs": [],
   "source": [
    "normalized_tokens = [x.lower() for x in tokens]"
   ]
  },
  {
   "cell_type": "code",
   "execution_count": 92,
   "id": "a84b7862",
   "metadata": {},
   "outputs": [
    {
     "name": "stdout",
     "output_type": "stream",
     "text": [
      "['house', 'visitor', 'center']\n"
     ]
    }
   ],
   "source": [
    "print(normalized_tokens)"
   ]
  },
  {
   "cell_type": "code",
   "execution_count": 96,
   "id": "97f5945f",
   "metadata": {},
   "outputs": [],
   "source": [
    "# Stemming\n",
    "def stem(phrase):\n",
    "    return ' '.join([re.findall('^(.ss|.*?)(s)?$', word)[0][0].strip(\"'\") for word in phrase.lower().split()])"
   ]
  },
  {
   "cell_type": "code",
   "execution_count": 97,
   "id": "3bc6c1c2",
   "metadata": {},
   "outputs": [
    {
     "data": {
      "text/plain": [
       "'house'"
      ]
     },
     "execution_count": 97,
     "metadata": {},
     "output_type": "execute_result"
    }
   ],
   "source": [
    "stem('houses')"
   ]
  },
  {
   "cell_type": "code",
   "execution_count": 98,
   "id": "f5ee4fea",
   "metadata": {},
   "outputs": [
    {
     "data": {
      "text/plain": [
       "'docter house call'"
      ]
     },
     "execution_count": 98,
     "metadata": {},
     "output_type": "execute_result"
    }
   ],
   "source": [
    "stem(\"Docter house's calls\")"
   ]
  },
  {
   "cell_type": "code",
   "execution_count": 16,
   "id": "a00ca798",
   "metadata": {},
   "outputs": [],
   "source": [
    "# Porter Stemmer\n",
    "from nltk.stem.porter import PorterStemmer"
   ]
  },
  {
   "cell_type": "code",
   "execution_count": 18,
   "id": "3f8b380c",
   "metadata": {},
   "outputs": [
    {
     "data": {
      "text/plain": [
       "'dish washer wash dish'"
      ]
     },
     "execution_count": 18,
     "metadata": {},
     "output_type": "execute_result"
    }
   ],
   "source": [
    "stemmer= PorterStemmer()\n",
    "' '.join([stemmer.stem(w).strip(\"'\") for w in \"dish washer's washed dishes\".split()]) \n",
    "# PorterStemmer는 후행 '를 유지하기 때문에 명시적으로 제거함"
   ]
  },
  {
   "cell_type": "code",
   "execution_count": 20,
   "id": "49ef6ae0",
   "metadata": {},
   "outputs": [],
   "source": [
    "# Lemmatization\n",
    "#nltk.download('wordnet')\n",
    "from nltk.stem import WordNetLemmatizer"
   ]
  },
  {
   "cell_type": "code",
   "execution_count": 7,
   "id": "45185df9",
   "metadata": {},
   "outputs": [],
   "source": [
    "lemmatizer = WordNetLemmatizer()"
   ]
  },
  {
   "cell_type": "code",
   "execution_count": 8,
   "id": "f5ea48c9",
   "metadata": {},
   "outputs": [
    {
     "data": {
      "text/plain": [
       "'better'"
      ]
     },
     "execution_count": 8,
     "metadata": {},
     "output_type": "execute_result"
    }
   ],
   "source": [
    "lemmatizer.lemmatize(\"better\")"
   ]
  },
  {
   "cell_type": "code",
   "execution_count": 11,
   "id": "30e33b0f",
   "metadata": {},
   "outputs": [
    {
     "data": {
      "text/plain": [
       "'good'"
      ]
     },
     "execution_count": 11,
     "metadata": {},
     "output_type": "execute_result"
    }
   ],
   "source": [
    "lemmatizer.lemmatize(\"good\", pos=\"a\")"
   ]
  },
  {
   "cell_type": "code",
   "execution_count": 12,
   "id": "b3c980a5",
   "metadata": {},
   "outputs": [
    {
     "data": {
      "text/plain": [
       "'goods'"
      ]
     },
     "execution_count": 12,
     "metadata": {},
     "output_type": "execute_result"
    }
   ],
   "source": [
    "lemmatizer.lemmatize(\"goods\", pos=\"a\")"
   ]
  },
  {
   "cell_type": "code",
   "execution_count": 13,
   "id": "c4b14eff",
   "metadata": {},
   "outputs": [
    {
     "data": {
      "text/plain": [
       "'good'"
      ]
     },
     "execution_count": 13,
     "metadata": {},
     "output_type": "execute_result"
    }
   ],
   "source": [
    "lemmatizer.lemmatize(\"goods\", pos=\"n\")"
   ]
  },
  {
   "cell_type": "code",
   "execution_count": 14,
   "id": "976cfd63",
   "metadata": {},
   "outputs": [
    {
     "data": {
      "text/plain": [
       "'goodness'"
      ]
     },
     "execution_count": 14,
     "metadata": {},
     "output_type": "execute_result"
    }
   ],
   "source": [
    "lemmatizer.lemmatize(\"goodness\", pos=\"n\")"
   ]
  },
  {
   "cell_type": "code",
   "execution_count": 15,
   "id": "786ded1e",
   "metadata": {},
   "outputs": [
    {
     "data": {
      "text/plain": [
       "'best'"
      ]
     },
     "execution_count": 15,
     "metadata": {},
     "output_type": "execute_result"
    }
   ],
   "source": [
    "lemmatizer.lemmatize(\"best\", pos=\"a\")"
   ]
  },
  {
   "cell_type": "code",
   "execution_count": 19,
   "id": "aa72d69d",
   "metadata": {},
   "outputs": [
    {
     "data": {
      "text/plain": [
       "'good'"
      ]
     },
     "execution_count": 19,
     "metadata": {},
     "output_type": "execute_result"
    }
   ],
   "source": [
    "stemmer.stem('goodness')"
   ]
  },
  {
   "cell_type": "code",
   "execution_count": null,
   "id": "e1759d20",
   "metadata": {},
   "outputs": [],
   "source": []
  }
 ],
 "metadata": {
  "kernelspec": {
   "display_name": "Python 3 (ipykernel)",
   "language": "python",
   "name": "python3"
  },
  "language_info": {
   "codemirror_mode": {
    "name": "ipython",
    "version": 3
   },
   "file_extension": ".py",
   "mimetype": "text/x-python",
   "name": "python",
   "nbconvert_exporter": "python",
   "pygments_lexer": "ipython3",
   "version": "3.9.7"
  }
 },
 "nbformat": 4,
 "nbformat_minor": 5
}
